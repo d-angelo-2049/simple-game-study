{
 "cells": [
  {
   "cell_type": "markdown",
   "id": "7d80d831-12a5-49ec-aaf6-50c4501e65e1",
   "metadata": {},
   "source": [
    "# 3x3の利得行列から各プレイヤーの混合戦略を求める"
   ]
  },
  {
   "cell_type": "code",
   "execution_count": 25,
   "id": "c5a0f000-909f-4e3a-bd0c-ca5ac0a9a473",
   "metadata": {},
   "outputs": [],
   "source": [
    "from scipy.optimize import minimize\n",
    "import nashpy as nash\n",
    "import numpy as np"
   ]
  },
  {
   "cell_type": "code",
   "execution_count": 26,
   "id": "24f654db-93e5-40f3-a99c-cd9498d24cca",
   "metadata": {},
   "outputs": [
    {
     "name": "stdout",
     "output_type": "stream",
     "text": [
      "(array([0.28571429, 0.35714286, 0.35714286]), array([0.21428571, 0.54761905, 0.23809524]))\n"
     ]
    }
   ],
   "source": [
    "player_a_payoff_matrix = np.array([[4, -1, -1],\n",
    "                          [-3, 0, 3],\n",
    "                          [0, 1, -2]])\n",
    "player_b_payoff_matrix = np.array([[-4, 1, 1],\n",
    "                          [3, 0, -3],\n",
    "                          [0, -1, 2]])\n",
    "# gameの定義\n",
    "game = nash.Game(player_a_payoff_matrix, player_b_payoff_matrix)  \n",
    "\n",
    "\n",
    "equilibrias = game.support_enumeration() \n",
    "for eq in equilibrias:\n",
    "    print(eq)"
   ]
  },
  {
   "cell_type": "code",
   "execution_count": 27,
   "id": "68b1b1b5-a660-4a04-8839-8bdd336ea102",
   "metadata": {},
   "outputs": [
    {
     "name": "stdout",
     "output_type": "stream",
     "text": [
      "(array([3.70074342e-17, 2.50000000e-01, 7.50000000e-01]), array([0.25, 0.  , 0.75]))\n"
     ]
    }
   ],
   "source": [
    "player_a_payoff_matrix = np.array([[4, -1, -2],\n",
    "                          [-3, 0, 3],\n",
    "                          [0, 1, 2]])\n",
    "player_b_payoff_matrix = np.array([[-4, 1, 2],\n",
    "                          [3, 0, -3],\n",
    "                          [0, -1, 2]])\n",
    "# gameの定義\n",
    "game = nash.Game(player_a_payoff_matrix, player_b_payoff_matrix)  \n",
    "\n",
    "\n",
    "equilibrias = game.support_enumeration()  \n",
    "for eq in equilibrias:\n",
    "    print(eq)"
   ]
  },
  {
   "cell_type": "code",
   "execution_count": 28,
   "id": "e5116322-794f-4172-8942-58650178b7e2",
   "metadata": {},
   "outputs": [
    {
     "name": "stdout",
     "output_type": "stream",
     "text": [
      "(array([0., 0., 1.]), array([0., 1., 0.]))\n"
     ]
    }
   ],
   "source": [
    "player_a_payoff_matrix = np.array([[4, -1, -2],\n",
    "                          [-3, 0, 3],\n",
    "                          [3, 1, 2]])\n",
    "player_b_payoff_matrix = np.array([[-4, 1, 2],\n",
    "                          [3, 0, -3],\n",
    "                          [-3, -1, -2]])\n",
    "# gameの定義\n",
    "game = nash.Game(player_a_payoff_matrix, player_b_payoff_matrix)  \n",
    "\n",
    "\n",
    "equilibrias = game.support_enumeration()  \n",
    "for eq in equilibrias:\n",
    "    print(eq)"
   ]
  }
 ],
 "metadata": {
  "kernelspec": {
   "display_name": "Python 3 (ipykernel)",
   "language": "python",
   "name": "python3"
  },
  "language_info": {
   "codemirror_mode": {
    "name": "ipython",
    "version": 3
   },
   "file_extension": ".py",
   "mimetype": "text/x-python",
   "name": "python",
   "nbconvert_exporter": "python",
   "pygments_lexer": "ipython3",
   "version": "3.8.16"
  }
 },
 "nbformat": 4,
 "nbformat_minor": 5
}
